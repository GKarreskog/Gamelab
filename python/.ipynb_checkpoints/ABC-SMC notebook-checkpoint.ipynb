{
 "cells": [
  {
   "cell_type": "markdown",
   "metadata": {},
   "source": [
    "We start by loading the population functions from vectorized_funs.py and loading necessary packages "
   ]
  },
  {
   "cell_type": "code",
   "execution_count": 1,
   "metadata": {},
   "outputs": [],
   "source": [
    "%run vectorized_funs.py \n",
    "import matplotlib\n",
    "# matplotlib.use('Agg')\n",
    "import matplotlib.pyplot as plt\n",
    "import pandas as pd\n",
    "\n",
    "# ABC stuff\n",
    "from pyabc.visualization import plot_kde_matrix\n",
    "from pyabc.visualization import plot_kde_1d\n",
    "\n",
    "import os\n",
    "import tempfile\n",
    "\n",
    "import scipy.stats as st\n",
    "import scipy as scp\n",
    "\n",
    "\n",
    "from pyabc import (ABCSMC, RV, Distribution,\n",
    "                   PercentileDistanceFunction)\n",
    "\n",
    "import pyabc\n"
   ]
  },
  {
   "cell_type": "markdown",
   "metadata": {},
   "source": [
    "## Loading data to test \n",
    "Here we load the data from different sources, including the games played. "
   ]
  },
  {
   "cell_type": "code",
   "execution_count": 2,
   "metadata": {},
   "outputs": [
    {
     "ename": "AttributeError",
     "evalue": "'list' object has no attribute 'astype'",
     "output_type": "error",
     "traceback": [
      "\u001b[0;31m---------------------------------------------------------------------------\u001b[0m",
      "\u001b[0;31mAttributeError\u001b[0m                            Traceback (most recent call last)",
      "\u001b[0;32m<ipython-input-2-75e33a0e3e17>\u001b[0m in \u001b[0;36m<module>\u001b[0;34m()\u001b[0m\n\u001b[1;32m     12\u001b[0m \u001b[0;34m\u001b[0m\u001b[0m\n\u001b[1;32m     13\u001b[0m \u001b[0;32mfor\u001b[0m \u001b[0mgid\u001b[0m\u001b[0;34m,\u001b[0m\u001b[0mpayoffs\u001b[0m \u001b[0;32min\u001b[0m \u001b[0mpayoffs_dict\u001b[0m\u001b[0;34m.\u001b[0m\u001b[0mitems\u001b[0m\u001b[0;34m(\u001b[0m\u001b[0;34m)\u001b[0m\u001b[0;34m:\u001b[0m\u001b[0;34m\u001b[0m\u001b[0m\n\u001b[0;32m---> 14\u001b[0;31m     \u001b[0mpayoffs\u001b[0m\u001b[0;34m[\u001b[0m\u001b[0;36m0\u001b[0m\u001b[0;34m]\u001b[0m \u001b[0;34m=\u001b[0m \u001b[0mpayoffs\u001b[0m\u001b[0;34m[\u001b[0m\u001b[0;36m0\u001b[0m\u001b[0;34m]\u001b[0m\u001b[0;34m.\u001b[0m\u001b[0mastype\u001b[0m\u001b[0;34m(\u001b[0m\u001b[0mfloat\u001b[0m\u001b[0;34m)\u001b[0m\u001b[0;34m\u001b[0m\u001b[0m\n\u001b[0m\u001b[1;32m     15\u001b[0m     \u001b[0mpayoffs\u001b[0m\u001b[0;34m[\u001b[0m\u001b[0;36m1\u001b[0m\u001b[0;34m]\u001b[0m \u001b[0;34m=\u001b[0m \u001b[0mpayoffs\u001b[0m\u001b[0;34m[\u001b[0m\u001b[0;36m1\u001b[0m\u001b[0;34m]\u001b[0m\u001b[0;34m.\u001b[0m\u001b[0mastype\u001b[0m\u001b[0;34m(\u001b[0m\u001b[0mfloat\u001b[0m\u001b[0;34m)\u001b[0m\u001b[0;34m\u001b[0m\u001b[0m\n",
      "\u001b[0;31mAttributeError\u001b[0m: 'list' object has no attribute 'astype'"
     ]
    }
   ],
   "source": [
    "with open('data_dicts.pkl', 'rb') as input: \n",
    "    load_dict = pickle.load(input)\n",
    "    init_strats_dict = load_dict[\"init_strats_dict\"]\n",
    "    init_p1_dict = load_dict[\"init_p1_dict\"]\n",
    "    init_p2_dict = load_dict[\"init_p2_dict\"]\n",
    "    payoffs_dict = load_dict[\"payoffs_dict\"]\n",
    "    role_dict = load_dict[\"role_dict\"]\n",
    "    id_dict = load_dict[\"id_dict\"]\n",
    "    actual_plays_dict = load_dict[\"actual_plays_dict\"]\n",
    "\n",
    "\n",
    "\n",
    "for gid,payoffs in payoffs_dict.items():\n",
    "    payoffs[0] = payoffs[0].astype(float)\n",
    "    payoffs[1] = payoffs[1].astype(float)"
   ]
  },
  {
   "cell_type": "markdown",
   "metadata": {},
   "source": [
    "## Setting parameters for the simulations"
   ]
  },
  {
   "cell_type": "code",
   "execution_count": null,
   "metadata": {
    "collapsed": true
   },
   "outputs": [],
   "source": [
    "data_dict = pseudo_data_correct\n",
    "gids = [2,3,4,5,6]\n",
    "n_runs = len(data_dict[\"LK_1\"][2])\n",
    "bw = 0.05\n",
    "p1_size = 17\n",
    "p2_size = 17 \n",
    "rounds = 29\n",
    "games = payoffs_dict\n",
    "n_particles = 1000\n",
    "max_pops = 15\n",
    "min_accept_rate = 0.001"
   ]
  },
  {
   "cell_type": "markdown",
   "metadata": {},
   "source": [
    "# Some custom functions \n",
    "- Functions for transforming the simulated data into long vectors that can be saved in the database and back again so that the distance can be calculated. \n",
    "- Custom distance function that generates an approximate pdf from the simulated data using kde and then calculates likelihood of the actual observations. The distance is measured as 1 - the quotient between the maximum (getting exactly the same trajectories) and the actual.  \n",
    "- The likelihood estimation function which takes two sets of observations, generates a kde from the first set of observations and returns the total logpdf of the second set. \n"
   ]
  },
  {
   "cell_type": "code",
   "execution_count": 2,
   "metadata": {
    "collapsed": true
   },
   "outputs": [],
   "source": [
    "def calc_likelihood(simulated_flat, hists_flat):\n",
    "    simulated = unflatten_data(simulated_flat, shape)\n",
    "    hists = unflatten_data(hists_flat, shape) \n",
    "    tot_score = 0 \n",
    "    for sim, hist in zip(simulated, hists):\n",
    "        kde = KernelDensity(bandwidth=bw)\n",
    "        kde.fit(sim)\n",
    "        tot_score += kde.score(hist)\n",
    "    return tot_score\n",
    "\n",
    "def get_gid_data(gids):\n",
    "    return {pseudo:{gid:pseudo_data_correct[pseudo][gid] for gid in gids} for pseudo in pseudo_data_correct}\n",
    "\n",
    "def flatten_data(hists):\n",
    "    shape_vec = []\n",
    "    hists_vec = np.array([])\n",
    "    for hist in hists:\n",
    "        shape_vec.append(hist.shape)\n",
    "        hists_vec = np.append(hists_vec, hist.flatten())\n",
    "    return(hists_vec,shape_vec)\n",
    "\n",
    "def unflatten_data(hists_vec, shape_vec):\n",
    "    start = 0\n",
    "    end = 0 \n",
    "    hists = []\n",
    "    for shape in shape_vec:\n",
    "        end += shape[0]*shape[1]\n",
    "        hists.append(np.reshape(hists_vec[start:end],shape))\n",
    "        start += shape[0]*shape[1] \n",
    "    return hists\n",
    "\n",
    "def plot_models(history):\n",
    "    for i in history.alive_models(history.max_t):\n",
    "        df, w = history.get_distribution(m=i)\n",
    "        df_copy = df.copy()\n",
    "        model = model_names[i]\n",
    "        for param in αβ_params[model]:\n",
    "            a, b = αβ_lims[model][param]\n",
    "            df[param] = df_copy.apply(lambda x: st.beta.mean(x[param], x[param+\"_sd\"])*(b-a) + a, axis=1)\n",
    "            df[param+\"_sd\"] = df_copy.apply(lambda x: st.beta.std(x[param], x[param+\"_sd\"])*(b-a), axis=1)\n",
    "        plot = plot_kde_matrix(df, w, limits=αβ_param_spaces[model_names[i]])\n",
    "        plot.savefig(\"fig/SSE/abc-beta\" + str(n_particles) + \"-\" + str(max_pops)+ \"-bw\" + str(bw) + \"-\"  + pseduo_pop  + \"-\" + model_names[i] + \".png\")\n",
    "    plt.close(\"all\")\n",
    "    \n",
    "def αβ_from_μσ(μ,σ,a=0,b=1):\n",
    "    α, β = (myclip_a - μ) / σ, (myclip_b - μ) / σ\n",
    "    return (α,β)\n",
    "    "
   ]
  },
  {
   "cell_type": "markdown",
   "metadata": {},
   "source": [
    "## Necessary functions to run the ABC\n",
    "- Model functions, which takes a dictionary of parameters and returns simulated observations of the same form as the observed data under some learning model. \n",
    "- Distance function \n",
    "- Parameter spaces\n",
    "- Priors over the paramters (uniform)"
   ]
  },
  {
   "cell_type": "code",
   "execution_count": 3,
   "metadata": {
    "collapsed": true
   },
   "outputs": [],
   "source": [
    "\n",
    "αβ_lims = dict()\n",
    "αβ_lims[\"LK\"] = {\"τ\":(0,4), \"p\":(0,1)}\n",
    "αβ_lims[\"LLK\"] = {\"τ\":(0,4), \"p\":(0,1), \"λ\":(0,10)}\n",
    "αβ_lims[\"PCHM\"] = {\"τ\":(0,4), \"p\":(0,1)}\n",
    "αβ_lims[\"LPCHM\"] = {\"τ\":(0,4), \"p\":(0,1), \"λ\":(0,10)}\n",
    "αβ_lims[\"JPCHM\"] = {\"τ\":(0.,4.), \"p\":(0,1)}\n",
    "αβ_lims[\"LJPCHM\"] = {\"τ\":(0,4.), \"p\":(0,1), \"λ\":(0,10)}\n",
    "αβ_lims[\"L1PCHM\"] = {\"τ\":(0,4.), \"p\":(0,1), \"λ\":(0,10)}\n",
    "αβ_lims[\"BR\"] = {\"ε\":(0,1), \"p\":(0,1)}\n",
    "αβ_lims[\"LBR\"] = {\"ε\":(0,1), \"p\":(0,1), \"λ\":(0,10)}\n",
    "αβ_lims[\"EWA\"] = {\"p\":(0,1), \"λ\":(0,10), \"φ\":(0,1), \"ρ\":(0,1), \"δ\":(0,1)}\n",
    "\n",
    "\n",
    "def LK_model(parameters):\n",
    "    p = parameters[\"p\"]\n",
    "    τ = parameters[\"τ\"]\n",
    "    p_sd = parameters[\"p_sd\"]\n",
    "    τ_sd = parameters[\"τ_sd\"]\n",
    "    if \"init_τ\" in parameters: \n",
    "        init_params = np.array([parameters[\"init_τ\"], parameters[\"init_λ\"]])\n",
    "    else:\n",
    "         init_params=np.array([1.5,1.])\n",
    "    hists = []\n",
    "    for gid in gids:\n",
    "        pop_LK = Population(games[gid][0], games[gid][1], rounds, p1_size,  p2_size, init_params=init_params, params_vec=[p,τ], σ_vec=[p_sd, τ_sd], lower_vec=[0.,0.], upper_vec=[1.,4.], random_params=True)\n",
    "        hists.append(flatten_h(pop_LK.mul_runs_LK(n_runs)))\n",
    "    flat_hists, shape = flatten_data(hists)\n",
    "    return {\"data\": flat_hists, \"shape\": shape}\n",
    "\n",
    "\n",
    "def LLK_model(parameters):\n",
    "    p = parameters[\"p\"]\n",
    "    τ = parameters[\"τ\"]\n",
    "    λ = parameters[\"λ\"]\n",
    "    p_sd = parameters[\"p_sd\"]\n",
    "    τ_sd = parameters[\"τ_sd\"] \n",
    "    λ_sd = parameters[\"λ_sd\"]\n",
    "    hists = []\n",
    "    for gid in gids:\n",
    "        pop_LLK = Population(games[gid][0], games[gid][1], rounds, p1_size,  p2_size, params_vec=[p,τ, λ], σ_vec=[p_sd, τ_sd, λ_sd], lower_vec=[0.,0., 0.], upper_vec=[1.,4., 10.], random_params=True)\n",
    "        hists.append(flatten_h(pop_LLK.mul_runs_LLK(n_runs)))\n",
    "    flat_hists, shape = flatten_data(hists)\n",
    "    return {\"data\": flat_hists, \"shape\":shape}\n",
    "\n",
    "def PCHM_model(parameters):\n",
    "    p = parameters[\"p\"]\n",
    "    τ = parameters[\"τ\"]\n",
    "    p_sd = parameters[\"p_sd\"]\n",
    "    τ_sd = parameters[\"τ_sd\"]\n",
    "    if \"init_τ\" in parameters: \n",
    "        init_params = np.array([parameters[\"init_τ\"], parameters[\"init_λ\"]])\n",
    "    else:\n",
    "         init_params=np.array([1.5,1.])\n",
    "    hists = []\n",
    "    for gid in gids:\n",
    "        pop_PCHM = Population(games[gid][0], games[gid][1], rounds, p1_size,  p2_size,  init_params=init_params, params_vec=[p,τ], σ_vec=[p_sd, τ_sd], lower_vec=[0.,0.], upper_vec=[1.,4.], random_params=True)\n",
    "        hists.append(flatten_h(pop_PCHM.mul_runs_PCHM(n_runs)))\n",
    "    flat_hists, shape = flatten_data(hists)\n",
    "    return {\"data\": flat_hists, \"shape\": shape}\n",
    "\n",
    "def JPCHM_model(parameters):\n",
    "    p = parameters[\"p\"]\n",
    "    τ = parameters[\"τ\"]\n",
    "    p_sd = parameters[\"p_sd\"]\n",
    "    τ_sd = parameters[\"τ_sd\"]\n",
    "    if \"init_τ\" in parameters: \n",
    "        init_params = np.array([parameters[\"init_τ\"], parameters[\"init_λ\"]])\n",
    "    else:\n",
    "         init_params=np.array([1.5,1.])\n",
    "    hists = []\n",
    "    for gid in gids:\n",
    "        pop_JPCHM = Population(games[gid][0], games[gid][1], rounds, p1_size,  p2_size,  init_params=init_params, params_vec=[p,τ], σ_vec=[p_sd, τ_sd], lower_vec=[0.,0.], upper_vec=[1.,αβ_lims[\"JPCHM\"][\"τ\"][1]], random_params=True)\n",
    "        hists.append(flatten_h(pop_JPCHM.mul_runs_JPCHM(n_runs)))\n",
    "    flat_hists, shape = flatten_data(hists)\n",
    "    return {\"data\": flat_hists, \"shape\": shape}\n",
    "\n",
    "\n",
    "def LPCHM_model(parameters):\n",
    "#     p = parameters[\"p\"]\n",
    "    τ = parameters[\"τ\"]\n",
    "    λ = parameters[\"λ\"]\n",
    "#     p_sd = parameters[\"p_sd\"]\n",
    "    τ_sd = parameters[\"τ_sd\"]\n",
    "    λ_sd = parameters[\"λ_sd\"]\n",
    "    if \"init_τ\" in parameters: \n",
    "        init_params = np.array([parameters[\"init_τ\"], parameters[\"init_λ\"]])\n",
    "    else:\n",
    "         init_params=np.array([1.5,1.])\n",
    "    hists = []\n",
    "    for gid in gids:\n",
    "        pop_LPCHM = Population(games[gid][0], games[gid][1], rounds, p1_size,  p2_size,  init_params=init_params, params_vec=[τ, λ], σ_vec=[τ_sd, λ_sd], lower_vec=[0., 0.], upper_vec=[4., 10.], random_params=True)\n",
    "        hists.append(flatten_h(pop_LPCHM.mul_runs_LPCHM(n_runs)))\n",
    "    flat_hists, shape = flatten_data(hists)\n",
    "    return {\"data\": flat_hists, \"shape\": shape}\n",
    "\n",
    "\n",
    "def LJPCHM_model(parameters):\n",
    "    p = parameters[\"p\"]\n",
    "    τ = parameters[\"τ\"]\n",
    "    λ = parameters[\"λ\"]\n",
    "    p_sd = parameters[\"p_sd\"]\n",
    "    τ_sd = parameters[\"τ_sd\"]\n",
    "    λ_sd = parameters[\"λ_sd\"]\n",
    "    if \"init_τ\" in parameters: \n",
    "        init_params = np.array([parameters[\"init_τ\"], parameters[\"init_λ\"]])\n",
    "    else:\n",
    "         init_params=np.array([1.5,1.])\n",
    "    hists = []\n",
    "    for gid in gids:\n",
    "        pop_LJPCHM = Population(games[gid][0], games[gid][1], rounds, p1_size,  p2_size,  init_params=init_params, params_vec=[p, τ, λ], σ_vec=[p_sd, τ_sd, λ_sd], lower_vec=[0.,0., 0.], upper_vec=[1.,4., 10.], random_params=True)\n",
    "        hists.append(flatten_h(pop_LJPCHM.mul_runs_LJPCHM(n_runs)))\n",
    "    flat_hists, shape = flatten_data(hists)\n",
    "    return {\"data\": flat_hists, \"shape\": shape}\n",
    "\n",
    "\n",
    "\n",
    "def L1PCHM_model(parameters):\n",
    "    p = parameters[\"p\"]\n",
    "    τ = parameters[\"τ\"]\n",
    "    λ = parameters[\"λ\"]\n",
    "    p_sd = parameters[\"p_sd\"]\n",
    "    τ_sd = parameters[\"τ_sd\"]\n",
    "    λ_sd = parameters[\"λ_sd\"]\n",
    "    if \"init_τ\" in parameters: \n",
    "        init_params = np.array([parameters[\"init_τ\"], parameters[\"init_λ\"]])\n",
    "    else:\n",
    "         init_params=np.array([1.5,1.])\n",
    "    hists = []\n",
    "    for gid in gids:\n",
    "        pop_L1PCHM = Population(games[gid][0], games[gid][1], rounds, p1_size,  p2_size,  init_params=init_params, params_vec=[p, τ, λ], σ_vec=[p_sd, τ_sd, λ_sd], lower_vec=[0.,0., 0.], upper_vec=[1.,4., 10.], random_params=True)\n",
    "        hists.append(flatten_h(pop_L1PCHM.mul_runs_L1PCHM(n_runs)))\n",
    "    flat_hists, shape = flatten_data(hists)\n",
    "    return {\"data\": flat_hists, \"shape\": shape}\n",
    "\n",
    "\n",
    "def BR_model(parameters):\n",
    "    p = parameters[\"p\"]\n",
    "    ε = parameters[\"ε\"]\n",
    "    p_sd = parameters[\"p_sd\"]\n",
    "    ε_sd = parameters[\"ε_sd\"]\n",
    "    if \"init_τ\" in parameters: \n",
    "        init_params = np.array([parameters[\"init_τ\"], parameters[\"init_λ\"]])\n",
    "    else:\n",
    "         init_params=np.array([1.5,1.])\n",
    "    hists = []\n",
    "    for gid in gids:\n",
    "        pop_BR = Population(games[gid][0], games[gid][1], rounds, p1_size,  p2_size,  init_params=init_params, params_vec=[p,ε], σ_vec=[p_sd, ε_sd], lower_vec=[0.,0.], upper_vec=[1.,1.], random_params=True)\n",
    "        hists.append(flatten_h(pop_BR.mul_runs_BR(n_runs)))\n",
    "    flat_hists, shape = flatten_data(hists)\n",
    "    return {\"data\": flat_hists, \"shape\": shape}\n",
    "\n",
    "\n",
    "def LBR_model(parameters):\n",
    "    p = parameters[\"p\"]\n",
    "#     ε = parameters[\"ε\"]\n",
    "    λ = parameters[\"λ\"]\n",
    "    p_sd = parameters[\"p_sd\"]\n",
    "#     ε_sd = parameters[\"ε_sd\"]\n",
    "    λ_sd = parameters[\"λ_sd\"]\n",
    "    if \"init_τ\" in parameters: \n",
    "        init_params = np.array([parameters[\"init_τ\"], parameters[\"init_λ\"]])\n",
    "    else:\n",
    "         init_params=np.array([1.5,1.])\n",
    "    hists = []\n",
    "    for gid in gids:\n",
    "        pop_LBR = Population(games[gid][0], games[gid][1], rounds, p1_size,  p2_size,  init_params=init_params, params_vec=[p, λ], σ_vec=[p_sd, λ_sd], lower_vec=[0., 0.], upper_vec=[1., 10.], random_params=True)\n",
    "        hists.append(flatten_h(pop_LBR.mul_runs_LBR(n_runs)))\n",
    "    flat_hists, shape = flatten_data(hists)\n",
    "    return {\"data\": flat_hists, \"shape\": shape}\n",
    "\n",
    "def EWA_model(parameters):\n",
    "    p = parameters[\"p\"]\n",
    "    p_sd = parameters[\"p_sd\"]\n",
    "    λ = parameters[\"λ\"]\n",
    "    λ_sd = parameters[\"λ_sd\"]\n",
    "    φ = parameters[\"φ\"]\n",
    "    φ_sd = parameters[\"φ_sd\"]\n",
    "    ρ = parameters[\"ρ\"]\n",
    "    ρ_sd = parameters[\"ρ_sd\"]\n",
    "    δ = parameters[\"δ\"]\n",
    "    δ_sd = parameters[\"δ_sd\"]\n",
    "    if \"init_τ\" in parameters: \n",
    "        init_params = np.array([parameters[\"init_τ\"], parameters[\"init_λ\"]])\n",
    "    else:\n",
    "         init_params=np.array([1.5,1.])\n",
    "    hists = []\n",
    "    for gid in gids:\n",
    "        pop_EWA = Population(games[gid][0], games[gid][1], rounds, p1_size,  p2_size, init_params=init_params, params_vec=[p, λ, φ, ρ, δ], σ_vec=[p_sd, λ_sd, φ_sd, ρ_sd, δ_sd], lower_vec=[0.,0., 0., 0., 0.], upper_vec=[1.,10., 1., 1., 1.], random_params=True)\n",
    "        hists.append(flatten_h(pop_EWA.mul_runs_EWA(n_runs)))\n",
    "    flat_hists, shape = flatten_data(hists)\n",
    "    return {\"data\": flat_hists, \"shape\": shape}\n",
    "\n",
    "# def distance(x, y):\n",
    "#     return 1 - calc_likelihood(x[\"data\"], y[\"data\"])/max_like\n",
    "\n",
    "def distance(x,y):\n",
    "    return max_like - calc_likelihood(x[\"data\"], y[\"data\"])\n",
    "\n",
    "def euclidean_distance(x,y):\n",
    "    simulated = unflatten_data(x[\"data\"], x[\"shape\"])\n",
    "    hists = unflatten_data(y[\"data\"], y[\"shape\"]) \n",
    "    tot_distance = 0 \n",
    "    for sim, hist in zip(simulated, hists):\n",
    "        tot_distance += scp.spatial.distance.euclidean(sim,hist)\n",
    "    return tot_distance\n",
    "#     return scp.spatial.distance.euclidean(x[\"data\"], y[\"data\"])\n",
    "\n",
    "# param_spaces = dict()\n",
    "# param_spaces[\"LK\"] = {\"τ\":(0.6, 3.), \"τ_sd\":(0,0.5), \"p\":(0., 1.), \"p_sd\":(0,0.5)}\n",
    "# param_spaces[\"PCHM\"] = {\"τ\":(0.6, 3.), \"τ_sd\":(0,0.5), \"p\":(0., 1.), \"p_sd\":(0,0.5)}\n",
    "# param_spaces[\"BR\"] = {\"ε\":(0,0.3), \"ε_sd\":(0,0.5), \"p\":(0.,1.), \"p_sd\":(0,0.5)}\n",
    "# param_spaces[\"EWA\"] = {\"λ\":(0,10), \"λ_sd\":(0,5), \"p\":(0., 1), \"p_sd\":(0,0.5), \"φ\":(0, 1), \"φ_sd\":(0,0.5), \"ρ\":(0,1), \"ρ_sd\":(0,0.5) , \"δ\":(0,1), \"δ_sd\":(0,0.5)}\n",
    "\n",
    "# init_param_spaces = dict()\n",
    "# init_param_spaces[\"LK\"] = {\"τ\":(0.6, 3.), \"τ_sd\":(0,0.5), \"p\":(0., 1.), \"p_sd\":(0,0.5), \"init_τ\":(0,4), \"init_λ\":(0,10)}\n",
    "# init_param_spaces[\"PCHM\"] = {\"τ\":(0.6, 3.), \"τ_sd\":(0,0.5), \"p\":(0., 1.), \"p_sd\":(0,0.5), \"init_τ\":(0,4), \"init_λ\":(0,10)}\n",
    "# init_param_spaces[\"BR\"] = {\"ε\":(0,0.3), \"ε_sd\":(0,0.5), \"p\":(0.,1.), \"p_sd\":(0,0.5), \"init_τ\":(0,4), \"init_λ\":(0,10)}\n",
    "# init_param_spaces[\"EWA\"] = {\"λ\":(0,10), \"λ_sd\":(0,5), \"p\":(0., 1), \"p_sd\":(0,0.5), \"φ\":(0, 1), \"φ_sd\":(0,0.5), \"ρ\":(0,1), \"ρ_sd\":(0,0.5) , \"δ\":(0,1), \"δ_sd\":(0,0.5), \"init_τ\":(0,4), \"init_λ\":(0,10)}\n",
    "\n",
    "\n",
    "\n",
    "# αβ_param_spaces = dict()\n",
    "# αβ_param_spaces[\"LK\"] = {\"τ\":(0., 100.), \"τ_sd\":(0,100.), \"p\":(0., 100.), \"p_sd\":(0,100.), \"init_τ\":(0,4), \"init_λ\":(0,10)}\n",
    "# αβ_param_spaces[\"LLK\"] = {\"τ\":(0., 100.), \"τ_sd\":(0,100.), \"p\":(0., 100.), \"p_sd\":(0,100.), \"λ\":(0,100.), \"λ_sd\":(0,100.), \"init_τ\":(0,4), \"init_λ\":(0,10)}\n",
    "# αβ_param_spaces[\"PCHM\"] = {\"τ\":(0., 100.), \"τ_sd\":(0,100.), \"p\":(0., 100.), \"p_sd\":(0,100.), \"init_τ\":(0,4), \"init_λ\":(0,10)}\n",
    "# αβ_param_spaces[\"LPCHM\"] = {\"τ\":(0., 100.), \"τ_sd\":(0,100.), \"p\":(0., 100.), \"p_sd\":(0,100.), \"λ\":(0,100.), \"λ_sd\":(0,100.), \"init_τ\":(0,4), \"init_λ\":(0,10)}\n",
    "# αβ_param_spaces[\"BR\"] = {\"ε\":(0,100.), \"ε_sd\":(0,100.), \"p\":(0.,100.), \"p_sd\":(0,100.), \"init_τ\":(0,4), \"init_λ\":(0,10)}\n",
    "# αβ_param_spaces[\"EWA\"] = {\"λ\":(0,10), \"λ_sd\":(0,100.), \"p\":(0., 100.), \"p_sd\":(0,100.), \"φ\":(0, 100.), \"φ_sd\":(0,100.), \"ρ\":(0, 100.), \"ρ_sd\":(0,100.) , \"δ\":(0,100.), \"δ_sd\":(0,100.), \"init_τ\":(0,4), \"init_λ\":(0,10)}\n",
    "\n",
    "\n",
    "αβ_param_spaces = dict()\n",
    "αβ_param_spaces[\"LK\"] = {\"τ\":(0., 100.), \"τ_sd\":(0,100.), \"p\":(0., 100.), \"p_sd\":(0,100.), \"init_τ\":(0,4), \"init_λ\":(0,10)}\n",
    "αβ_param_spaces[\"LLK\"] = {\"τ\":(0., 100.), \"τ_sd\":(0,100.), \"p\":(0., 100.), \"p_sd\":(0,100.), \"λ\":(0,100.), \"λ_sd\":(0,100.), \"init_τ\":(0,4), \"init_λ\":(0,10)}\n",
    "αβ_param_spaces[\"PCHM\"] = {\"τ\":(0., 100.), \"τ_sd\":(0,100.), \"p\":(0., 100.), \"p_sd\":(0,100.), \"init_τ\":(0,4), \"init_λ\":(0,10)}\n",
    "αβ_param_spaces[\"JPCHM\"] = {\"τ\":(0., 100.), \"τ_sd\":(0,100.), \"p\":(0., 100.), \"p_sd\":(0,100.), \"init_τ\":(0,4), \"init_λ\":(0,10)}\n",
    "αβ_param_spaces[\"LPCHM\"] = {\"τ\":(0., 100.), \"τ_sd\":(0,100.), \"p\":(0., 100.), \"p_sd\":(0,100.), \"λ\":(0,100.), \"λ_sd\":(0,100.), \"init_τ\":(0,4), \"init_λ\":(0,10)}\n",
    "αβ_param_spaces[\"LJPCHM\"] = {\"τ\":(0., 100.), \"τ_sd\":(0,100.), \"p\":(0., 100.), \"p_sd\":(0,100.), \"λ\":(0,100.), \"λ_sd\":(0,100.), \"init_τ\":(0,4), \"init_λ\":(0,10)}\n",
    "αβ_param_spaces[\"BR\"] = {\"ε\":(0,100.), \"ε_sd\":(0,100.), \"p\":(0.,100.), \"p_sd\":(0,100.), \"init_τ\":(0,4), \"init_λ\":(0,10)}\n",
    "αβ_param_spaces[\"LBR\"] = {\"ε\":(0,100.), \"ε_sd\":(0,100.), \"p\":(0.,100.), \"p_sd\":(0,100.), \"λ\":(0,100.), \"λ_sd\":(0,100.),  \"init_τ\":(0,4), \"init_λ\":(0,10)}\n",
    "αβ_param_spaces[\"EWA\"] = {\"λ\":(0,10), \"λ_sd\":(0,100.), \"p\":(0., 100.), \"p_sd\":(0,100.), \"φ\":(0, 100.), \"φ_sd\":(0,100.), \"ρ\":(0, 100.), \"ρ_sd\":(0,100.) , \"δ\":(0,100.), \"δ_sd\":(0,100.), \"init_τ\":(0,4), \"init_λ\":(0,10)}\n",
    "\n",
    "\n",
    "## With init_params sampling\n",
    "# param_spaces = dict()\n",
    "# param_spaces[\"LLK\"] = {\"τ\":(0., 4.), \"τ_sd\":(0,0.1), \"p\":(0., 1.), \"p_sd\":(0,0.1), \"λ\":(0.,10.), \"λ_sd\":(0,1.), \"init_τ\":(0,4), \"init_λ\":(0,10)}\n",
    "# param_spaces[\"LJPCHM\"] = {\"τ\":(0., 4.), \"τ_sd\":(0,0.1), \"p\":(0., 1.), \"p_sd\":(0,0.1), \"λ\":(0.,10.), \"λ_sd\":(0,1.), \"init_τ\":(0,4), \"init_λ\":(0,10)}\n",
    "# param_spaces[\"L1PCHM\"] = {\"τ\":(0., 4.), \"τ_sd\":(0,0.1), \"p\":(0., 1.), \"p_sd\":(0,0.1), \"λ\":(0.,10.), \"λ_sd\":(0,1.), \"init_τ\":(0,4), \"init_λ\":(0,10)}\n",
    "# param_spaces[\"LPCHM\"] = {\"τ\":(0., 4.), \"τ_sd\":(0,0.1), \"p\":(0., 1.), \"p_sd\":(0,0.1), \"λ\":(0.,10.), \"λ_sd\":(0,1.), \"init_τ\":(0,4), \"init_λ\":(0,10)}\n",
    "# param_spaces[\"LBR\"] = {\"p\":(0.,1.), \"p_sd\":(0,0.1), \"λ\":(0.,10.), \"λ_sd\":(0,1.), \"init_τ\":(0,4), \"init_λ\":(0,10)}\n",
    "# param_spaces[\"EWA\"] = {\"λ\":(0,10), \"λ_sd\":(0,1.), \"p\":(0., 1), \"p_sd\":(0,0.1), \"φ\":(0, 1), \"φ_sd\":(0,0.1), \"ρ\":(0,1), \"ρ_sd\":(0,0.1) , \"δ\":(0,1), \"δ_sd\":(0,0.1), \"init_τ\":(0,4), \"init_λ\":(0,10)}\n",
    "\n",
    "\n",
    "\n",
    "\n",
    "param_spaces = dict()\n",
    "param_spaces[\"LLK\"] = {\"τ\":(0., 4.), \"τ_sd\":(0,0.1), \"p\":(0., 1.), \"p_sd\":(0,0.1), \"λ\":(0.,10.), \"λ_sd\":(0,1.)}\n",
    "param_spaces[\"LJPCHM\"] = {\"τ\":(0., 4.), \"τ_sd\":(0,0.1), \"p\":(0., 1.), \"p_sd\":(0,0.1), \"λ\":(0.,10.), \"λ_sd\":(0,1.)}\n",
    "param_spaces[\"L1PCHM\"] = {\"τ\":(0., 3.), \"τ_sd\":(0,0.4), \"p\":(0., 1.), \"p_sd\":(0,0.2), \"λ\":(0.,10.), \"λ_sd\":(0,1.)}\n",
    "param_spaces[\"LPCHM\"] = {\"τ\":(0., 2.), \"τ_sd\":(0,0.3), \"λ\":(0.,10.), \"λ_sd\":(0,1.)}\n",
    "param_spaces[\"LBR\"] = {\"p\":(0.,1.), \"p_sd\":(0,0.1), \"λ\":(0.,10.), \"λ_sd\":(0,1.)}\n",
    "param_spaces[\"EWA\"] = {\"λ\":(0,10), \"λ_sd\":(0,1.), \"p\":(0., 1), \"p_sd\":(0,0.2), \"φ\":(0, 1), \"φ_sd\":(0,0.2), \"ρ\":(0,1), \"ρ_sd\":(0,0.2) , \"δ\":(0,1), \"δ_sd\":(0,0.2)}\n",
    "\n",
    "\n",
    "\n",
    "αβ_params = dict()\n",
    "αβ_params[\"LK\"] = [\"τ\", \"p\"]\n",
    "αβ_params[\"LLK\"] = [\"τ\", \"p\", \"λ\"]\n",
    "αβ_params[\"PCHM\"] = [\"τ\", \"p\"]\n",
    "αβ_params[\"JPCHM\"] = [\"τ\", \"p\"]\n",
    "αβ_params[\"LPCHM\"] = [\"τ\", \"p\", \"λ\"]\n",
    "αβ_params[\"LJPCHM\"] = [\"τ\", \"p\", \"λ\"]\n",
    "αβ_params[\"L1PCHM\"] = [\"τ\", \"p\", \"λ\"]\n",
    "\n",
    "αβ_params[\"BR\"] = [\"ε\", \"p\"]\n",
    "αβ_params[\"LBR\"] = [\"ε\", \"p\", \"λ\"]\n",
    "αβ_params[\"EWA\"] = [\"p\", \"λ\", \"φ\", \"ρ\", \"δ\"]\n",
    "\n",
    " \n",
    "αβ_plot_lims = copy.deepcopy(αβ_param_spaces)\n",
    "for model in αβ_plot_lims:\n",
    "    for param in αβ_params[model]:\n",
    "        a,b = αβ_lims[model][param]\n",
    "        αβ_plot_lims[model][param] = αβ_lims[model][param]\n",
    "        αβ_plot_lims[model][param+\"_sd\"] = αβ_lims[model][param]\n",
    "        \n",
    "# model_names = [\"LK\", \"LLK\", \"PCHM\", \"LPCHM\", \"JPCHM\", \"LJPCHM\", \"BR\", \"LBR\", \"EWA\"]\n",
    "# models = [LK_model, LLK_model, PCHM_model, LPCHM_model, JPCHM_model, LJPCHM_model, BR_model, LBR_model, EWA_model]\n",
    "\n",
    "# model_names = [\"LLK\", \"LPCHM\", \"LJPCHM\", \"LBR\", \"EWA\"]\n",
    "# models = [LLK_model, LPCHM_model, LJPCHM_model, LBR_model, EWA_model]\n",
    "\n",
    "# model_names = [\"LPCHM\", \"LJPCHM\"]\n",
    "# models = [LPCHM_model, LJPCHM_model]\n",
    "\n",
    "\n",
    "# model_names = [\"LLK\", \"LJPCHM\", \"LBR\", \"EWA\"]\n",
    "# models = [LLK_model, LJPCHM_model, LBR_model, EWA_model]\n",
    "\n",
    "# model_names = [\"L1PCHM\", \"LJPCHM\", \"LPCHM\", \"EWA\"]\n",
    "# models = [L1PCHM_model, LJPCHM_model, LPCHM_model, EWA_model]\n",
    "\n",
    "model_names = [\"LPCHM\", \"EWA\"]\n",
    "models = [LPCHM_model, EWA_model]\n",
    "\n",
    "param_names = dict()\n",
    "param_names[\"EWA\"] = [\"p\", \"λ\", \"φ\", \"ρ\", \"δ\"]\n",
    "param_names[\"L1PCHM\"] = [\"τ\", \"p\", \"λ\"]\n",
    "param_names[\"LPCHM\"] = [\"τ\", \"λ\"]\n",
    "\n",
    "\n",
    "# priors = [Distribution(**{key: RV(\"uniform\", a, b - a)\n",
    "#                         for key, (a,b) in param_spaces[mod].items()}) for mod in [\"LK\", \"PCHM\", \"BR\", \"EWA\"]]\n",
    "# init_priors = [Distribution(**{key: RV(\"uniform\", a, b - a)\n",
    "#                         for key, (a,b) in init_param_spaces[mod].items()}) for mod in [\"LK\", \"PCHM\", \"BR\", \"EWA\"]]\n",
    "\n",
    "# αβ_priors = [Distribution(**{key: RV(\"uniform\", a, b - a)\n",
    "#                         for key, (a,b) in αβ_param_spaces[mod].items()}) for mod in [\"LK\", \"LLK\", \"PCHM\", \"LPCHM\", \"BR\", \"EWA\"]]\n",
    "\n",
    "\n",
    "\n",
    "priors = [Distribution(**{key: RV(\"uniform\", a, b - a)\n",
    "                        for key, (a,b) in param_spaces[mod].items()}) for mod in model_names]\n",
    "\n",
    "# αβ_priors = [Distribution(**{key: RV(\"uniform\", a, b - a)\n",
    "#                         for key, (a,b) in αβ_param_spaces[mod].items()}) for mod in model_names]"
   ]
  },
  {
   "cell_type": "code",
   "execution_count": null,
   "metadata": {},
   "outputs": [],
   "source": [
    "data_dict = data_TSE\n",
    "gids = [1,2,3,4,5,6]\n",
    "# gids = [4,5,6]\n",
    "p1_size = 6\n",
    "p2_size = 6 \n",
    "rounds = 30\n",
    "games = payoffs_dict[0]\n",
    "\n",
    "n_runs = len(data_TSE[1])\n",
    "# n_runs = 100\n",
    "bw = 0.1\n",
    "n_particles = 10000\n",
    "max_pops = 30\n",
    "min_accept_rate = 0.0001"
   ]
  },
  {
   "cell_type": "code",
   "execution_count": null,
   "metadata": {},
   "outputs": [],
   "source": []
  },
  {
   "cell_type": "markdown",
   "metadata": {},
   "source": [
    "## Running the abc-smc for the SSE pseudo_pops\n",
    "Here we iterate over all the pseudo populations and run the abc-smc for each one and save down plots of the result. "
   ]
  },
  {
   "cell_type": "code",
   "execution_count": null,
   "metadata": {
    "collapsed": true
   },
   "outputs": [],
   "source": [
    "for pseduo_pop in pseudo_data[gid]:\n",
    "    flat_hists, shape = flatten_data([pseudo_data_correct[pseduo_pop][gid] for gid in gids]) \n",
    "    y = {\"data\": flat_hists}\n",
    "    max_like = calc_likelihood(y[\"data\"], y[\"data\"])\n",
    "    \n",
    "    \n",
    "    print(pseduo_pop + \" - \" + str(max_like) + \" - \" + str(n_particles)) \n",
    "#     abc = ABCSMC([LK_model, PCHM_model, BR_model, EWA_model], priors, distance, population_size=n_particles)\n",
    "    abc = ABCSMC([LK_model, LLK_model, PCHM_model, LPCHM_model, BR_model, EWA_model], αβ_priors, distance, population_size=n_particles)\n",
    "    db_path = (\"sqlite:///\" + os.path.join(tempfile.gettempdir(), \"ABC.db\"))\n",
    "    print(db_path)\n",
    "    abc.new(db_path, y, meta_info={\"bw\":bw, \"Data\":\"Pseudo SSE\", \"Pseudo_pop\":pseduo_pop, \"Dist\":\"Beta\"})\n",
    "#     abc.new(db_path, y, meta_info={\"bw\":bw, \"Data\":\"Pseudo SSE\", \"Pseudo_pop\":pseduo_pop, \"Dist\":\"Normal\"})\n",
    "    history = abc.run(minimum_epsilon=0.1, max_nr_populations=max_pops,  min_acceptance_rate=min_accept_rate)\n",
    "\n",
    "    model_probabilities = history.get_model_probabilities()\n",
    "    print(model_probabilities)\n",
    "    model_probs = model_probabilities.plot.bar()\n",
    "    fig = model_probs.get_figure()\n",
    "    fig.savefig(\"fig/SSE/abc_modelprobs_beta\" + str(n_particles) + \"-\" + str(max_pops) + \"-bw\"+ str(bw) + \"-\"+ pseduo_pop + \".png\")\n",
    "\n",
    "    # i = 0\n",
    "    model_names = [\"LK\", \"LLK\", \"PCHM\", \"LPCHM\" \"BR\", \"EWA\"]\n",
    "    for i in history.alive_models(history.max_t):\n",
    "        df, w = history.get_distribution(m=i)\n",
    "#         plot = plot_kde_matrix(df, w, limits=param_spaces[model_names[i]])\n",
    "        plot = plot_kde_matrix(df, w, limits=αβ_param_spaces[model_names[i]])\n",
    "        plot.savefig(\"fig/SSE/abc-beta\" + str(n_particles) + \"-\" + str(max_pops)+ \"-bw\" + str(bw) + \"-\"  + pseduo_pop  + \"-\" + model_names[i] + \".png\")\n",
    "    plt.close(\"all\")"
   ]
  },
  {
   "cell_type": "code",
   "execution_count": null,
   "metadata": {
    "collapsed": true
   },
   "outputs": [],
   "source": [
    "param_spaces"
   ]
  },
  {
   "cell_type": "markdown",
   "metadata": {
    "collapsed": true
   },
   "source": [
    "### Testing ground truth functionality\n"
   ]
  },
  {
   "cell_type": "code",
   "execution_count": null,
   "metadata": {
    "collapsed": true
   },
   "outputs": [],
   "source": [
    "pseudo_pop = \"LK_1\"\n",
    "flat_hists, shape = flatten_data([pseudo_data_correct[pseduo_pop][gid] for gid in gids]) \n",
    "y = {\"data\": flat_hists}\n",
    "max_like = calc_likelihood(y[\"data\"], y[\"data\"])\n",
    "\n",
    "LK_1_params = {\"p\":0.9, \"τ\":0.9, \"p_sd\":0.1, \"τ_sd\":0.2}\n",
    "\n",
    "print(\"Ground truth with: \" + pseduo_pop + \" - \" + str(max_like) + \" - \" + str(n_particles)) \n",
    "abc = ABCSMC([LK_model, PCHM_model, BR_model, EWA_model], priors, distance, population_size=n_particles)\n",
    "db_path = (\"sqlite:///\" + os.path.join(tempfile.gettempdir(), \"ABC.db\"))\n",
    "print(db_path)\n",
    "abc.new(db_path, y, gt_model=0, gt_par=LK_1_params)\n",
    "history = abc.run(minimum_epsilon=0.1, max_nr_populations=max_pops)\n",
    "\n",
    "model_probabilities = history.get_model_probabilities()\n",
    "print(model_probabilities)\n",
    "model_probs = model_probabilities.plot.bar()\n",
    "fig = model_probs.get_figure()\n",
    "fig.savefig(\"fig/abc_modelprobs\" + str(n_particles) + \"-\" + str(max_pops) + \"-bw\"+ str(bw) + \"-\"+ pseduo_pop + \".png\")\n",
    "\n",
    "# i = 0\n",
    "model_names = [\"LK\", \"PCHM\", \"BR\", \"EWA\"]\n",
    "for i in history.alive_models(history.max_t):\n",
    "    df, w = history.get_distribution(m=i)\n",
    "    plot = plot_kde_matrix(df, w, limits=param_spaces[model_names[i]])\n",
    "    plot.savefig(\"fig/abc-\" + str(n_particles) + \"-\" + str(max_pops)+ \"-bw\" + str(bw) + \"-\"  + pseduo_pop  + \"-\" + model_names[i] + \".png\")\n",
    "plt.close(\"all\")"
   ]
  },
  {
   "cell_type": "markdown",
   "metadata": {
    "collapsed": true
   },
   "source": [
    "# TSE data\n",
    "\n",
    "### Loading the Data"
   ]
  },
  {
   "cell_type": "code",
   "execution_count": null,
   "metadata": {
    "collapsed": true
   },
   "outputs": [],
   "source": [
    "with open('data/data_dicts_TSE.pkl', 'rb') as input: \n",
    "    load_dict = pickle.load(input)\n",
    "    actual_plays_dict = load_dict['actual_plays_dict']\n",
    "    payoffs_dict = load_dict['payoffs_dict']\n",
    "    \n",
    "    \n",
    "data_TSE = dict()\n",
    "\n",
    "for gid in payoffs_dict[0]:\n",
    "    payoffs_dict[0][gid] = [payoffs_dict[0][gid][i].astype(float) for i in range(2)]\n",
    "\n",
    "\n",
    "for gid in games:\n",
    "    data = [pop[gid] for pop in actual_plays_dict.values()]\n",
    "    data_TSE[gid] = flatten_h(data)"
   ]
  },
  {
   "cell_type": "markdown",
   "metadata": {},
   "source": [
    "### Setting the parameters"
   ]
  },
  {
   "cell_type": "code",
   "execution_count": null,
   "metadata": {
    "collapsed": true
   },
   "outputs": [],
   "source": [
    "data_dict = data_TSE\n",
    "gids = [1,2,3,4,5,6]\n",
    "# gids = [4,5,6]\n",
    "p1_size = 6\n",
    "p2_size = 6 \n",
    "rounds = 30\n",
    "games = payoffs_dict[0]\n",
    "\n",
    "n_runs = len(data_TSE[1])\n",
    "# n_runs = 100\n",
    "bw = 0.1\n",
    "n_particles = 10000\n",
    "max_pops = 30\n",
    "min_accept_rate = 0.0001"
   ]
  },
  {
   "cell_type": "markdown",
   "metadata": {},
   "source": [
    "### Running the test for TSE data"
   ]
  },
  {
   "cell_type": "code",
   "execution_count": null,
   "metadata": {
    "collapsed": true
   },
   "outputs": [],
   "source": [
    "flat_hists, shape = flatten_data([data_dict[gid] for gid in gids]) \n",
    "y = {\"data\": flat_hists}\n",
    "max_like = calc_likelihood(y[\"data\"], y[\"data\"])\n",
    "\n",
    "\n",
    "print(\"TSE DATA: \" + str(max_like) + \" - \" + str(n_particles)) \n",
    "# abc = ABCSMC([LK_model, PCHM_model, BR_model, EWA_model], priors, distance, population_size=n_particles)\n",
    "abc = ABCSMC([LK_model, LLK_model, PCHM_model, LPCHM_model, BR_model, EWA_model], αβ_priors, distance, population_size=n_particles)\n",
    "db_path = (\"sqlite:///\" + os.path.join(tempfile.gettempdir(), \"ABC.db\"))\n",
    "print(db_path)\n",
    "abc.new(db_path, y, meta_info={\"bw\":bw, \"Data\":\"Real TSE - gids 456\", \"Distribution\":\"Beta\"})\n",
    "history = abc.run(minimum_epsilon=0.1, max_nr_populations=max_pops,  min_acceptance_rate=min_accept_rate)\n",
    "\n",
    "\n",
    "model_probabilities = history.get_model_probabilities()\n",
    "print(model_probabilities)\n",
    "model_probs = model_probabilities.plot.bar()\n",
    "fig = model_probs.get_figure()\n",
    "fig.savefig(\"fig/TSE/TSE_modelprobs\" + str(n_particles) + \"-\" + str(max_pops) + \"-bw\"+ str(bw) + \"-\"+ \".png\")\n",
    "\n",
    "# i = 0\n",
    "model_names = [\"LK\", \"LLK\", \"PCHM\", \"LPCHM\", \"BR\", \"EWA\"]\n",
    "for i in history.alive_models(history.max_t):\n",
    "    df, w = history.get_distribution(m=i)\n",
    "    plot = plot_kde_matrix(df, w, limits=αβ_param_spaces[model_names[i]])\n",
    "    plot.savefig(\"fig/TSE/TSE-\" + str(n_particles) + \"-\" + str(max_pops)+ \"-bw\" + str(bw) + \"-\"  + \"-\" + model_names[i] + \".png\")\n",
    "plt.close(\"all\")"
   ]
  },
  {
   "cell_type": "markdown",
   "metadata": {},
   "source": [
    "# SSE actual data\n",
    "### Loading data"
   ]
  },
  {
   "cell_type": "code",
   "execution_count": 4,
   "metadata": {
    "collapsed": true,
    "scrolled": true
   },
   "outputs": [],
   "source": [
    "with open('data/data_dicts.pkl', 'rb') as input: \n",
    "    load_dict = pickle.load(input)\n",
    "    init_strats_dict = load_dict[\"init_strats_dict\"]\n",
    "    init_p1_dict = load_dict[\"init_p1_dict\"]\n",
    "    init_p2_dict = load_dict[\"init_p2_dict\"]\n",
    "    payoffs_dict = load_dict[\"payoffs_dict\"]\n",
    "    role_dict = load_dict[\"role_dict\"]\n",
    "    id_dict = load_dict[\"id_dict\"]\n",
    "    actual_plays_dict = load_dict[\"actual_plays_dict\"]\n",
    "\n",
    "for gid in payoffs_dict:\n",
    "    payoffs_dict[gid] = [payoffs_dict[gid][i].astype(float) for i in range(2)]\n",
    "\n",
    "actuals_dict = dict()\n",
    "\n",
    "for gid in actual_plays_dict:\n",
    "    actuals_dict[gid] = flatten_single_hist(actual_plays_dict[gid])\n"
   ]
  },
  {
   "cell_type": "markdown",
   "metadata": {},
   "source": [
    "### Setting parameters"
   ]
  },
  {
   "cell_type": "code",
   "execution_count": 6,
   "metadata": {
    "collapsed": true
   },
   "outputs": [],
   "source": [
    "data_dict = actuals_dict\n",
    "# gids = [2,3,4,5,6]\n",
    "gids = [2,4,5,6]\n",
    "n_runs = 1\n",
    "bw = 0.05\n",
    "p1_size = 17\n",
    "p2_size = 17 \n",
    "rounds = 29\n",
    "games = payoffs_dict\n",
    "n_particles = 10000\n",
    "max_pops = 10\n",
    "min_accept_rate = 0.0001\n",
    "init_ε = 10\n",
    "α = 0.5\n"
   ]
  },
  {
   "cell_type": "code",
   "execution_count": null,
   "metadata": {
    "collapsed": true
   },
   "outputs": [],
   "source": [
    "flat_hists, shape = flatten_data([np.array([data_dict[gid]]) for gid in gids]) \n",
    "shape"
   ]
  },
  {
   "cell_type": "code",
   "execution_count": null,
   "metadata": {
    "collapsed": true
   },
   "outputs": [],
   "source": [
    "plt.switch_backend(\"Agg\")\n"
   ]
  },
  {
   "cell_type": "code",
   "execution_count": 9,
   "metadata": {
    "scrolled": false
   },
   "outputs": [
    {
     "name": "stderr",
     "output_type": "stream",
     "text": [
      "INFO:History:Start <ABCSMC(id=152, start_time=2018-09-24 06:25:14.237805, end_time=None)>\n",
      "INFO:ABC:t:0 eps:10\n"
     ]
    },
    {
     "name": "stdout",
     "output_type": "stream",
     "text": [
      "[<function LPCHM_model at 0x7fd5826c71e0>, <function EWA_model at 0x7fd5826c7510>]\n",
      "['LPCHM', 'EWA']\n",
      "SSE DATA: 1626.12949869 - 10000\n"
     ]
    },
    {
     "name": "stderr",
     "output_type": "stream",
     "text": [
      "INFO:ABC:t:1 eps:8.648400620241766\n",
      "INFO:ABC:t:2 eps:7.592810660699137\n",
      "INFO:ABC:t:3 eps:6.784592700836207\n",
      "INFO:ABC:t:4 eps:6.276492711462311\n",
      "INFO:ABC:t:5 eps:5.900933839592858\n",
      "INFO:ABC:t:6 eps:5.618385689195737\n",
      "INFO:ABC:t:7 eps:5.388432592059346\n",
      "INFO:ABC:t:8 eps:5.191643876182897\n",
      "INFO:ABC:t:9 eps:5.023315454890971\n",
      "INFO:History:Done <ABCSMC(id=152, start_time=2018-09-24 06:25:14.237805, end_time=2018-09-24 08:01:18.321377)>\n"
     ]
    },
    {
     "name": "stdout",
     "output_type": "stream",
     "text": [
      "m         0         1\n",
      "t                    \n",
      "0  0.650600  0.349400\n",
      "1  0.667837  0.332163\n",
      "2  0.761420  0.238580\n",
      "3  0.812964  0.187036\n",
      "4  0.846732  0.153268\n",
      "5  0.869449  0.130551\n",
      "6  0.910599  0.089401\n",
      "7  0.937072  0.062928\n",
      "8  0.950546  0.049454\n",
      "9  0.964581  0.035419\n"
     ]
    }
   ],
   "source": [
    "plt.switch_backend(\"Agg\")\n",
    "\n",
    "flat_hists, shape = flatten_data([np.array([data_dict[gid]]) for gid in gids]) \n",
    "y = {\"data\":flat_hists, \"shape\":shape}\n",
    "max_like = calc_likelihood(y[\"data\"], y[\"data\"])\n",
    "\n",
    "print(models)\n",
    "print(model_names)\n",
    "\n",
    "print(\"SSE DATA: \" + str(max_like) + \" - \" + str(n_particles)) \n",
    "# abc = ABCSMC(models, αβ_priors, distance, population_size=n_particles)\n",
    "abc = ABCSMC(models, priors, euclidean_distance, population_size=n_particles,  eps=pyabc.epsilon.QuantileEpsilon(initial_epsilon=init_ε, alpha=α))\n",
    "\n",
    "db_path = (\"sqlite:///\" + os.path.join(tempfile.gettempdir(), \"ABC.db\"))\n",
    "abc.new(db_path, y, meta_info={\"bw\":bw, \"Data\":\"Real SSE\", \"distribution\":\"Truncated normal\"})\n",
    "history = abc.run(minimum_epsilon=0.1, max_nr_populations=max_pops,  min_acceptance_rate=min_accept_rate)\n",
    "\n",
    "\n",
    "\n",
    "model_probabilities = history.get_model_probabilities()\n",
    "print(model_probabilities)\n",
    "model_probs = model_probabilities.plot.bar()\n",
    "fig = model_probs.get_figure()\n",
    "fig.savefig(\"fig/SSE/SSE_modelprobs\" + str(n_particles) + \"-\" + str(max_pops) + \"-bw\"+ str(bw) + \"-\"+ \".png\")\n",
    "\n",
    "# i = 0\n",
    "\n",
    "\n",
    "for i in history.alive_models(history.max_t):\n",
    "    df, w = history.get_distribution(m=i)\n",
    "    df_copy = df.copy()\n",
    "    model = model_names[i]\n",
    "#     for param in αβ_params[model]:\n",
    "#         a, b = αβ_lims[model][param]\n",
    "#         df[param] = df_copy.apply(lambda x: st.beta.mean(x[param], x[param+\"_sd\"])*(b-a) + a, axis=1)\n",
    "#         df[param+\"_sd\"] = df_copy.apply(lambda x: st.beta.std(x[param], x[param+\"_sd\"])*(b-a), axis=1)\n",
    "#     plot = plot_kde_matrix(df, w, limits=αβ_plot_lims[model_names[i]])\n",
    "    plot = plot_kde_matrix(df[param_names[model]], w, limits=param_spaces[model_names[i]])\n",
    "    plot.savefig(\"fig/SSE/SSE-nostd-\" + str(n_particles) + \"-\" + str(max_pops)+ \"-bw\" + str(bw) + \"-\"  + \"-\" + model_names[i] + \".png\")\n",
    "plt.close(\"all\")\n",
    "# for i in history.alive_models(history.max_t):\n",
    "#     df, w = history.get_distribution(m=i)\n",
    "#     plot = plot_kde_matrix(df, w, limits=αβ_param_spaces[model_names[i]])\n",
    "#     plot.savefig(\"fig/SSE/SSE-\" + str(n_particles) + \"-\" + str(max_pops)+ \"-bw\" + str(bw) + \"-\"  + \"-\" + model_names[i] + \".png\")\n",
    "# plt.close(\"all\")"
   ]
  },
  {
   "cell_type": "markdown",
   "metadata": {},
   "source": [
    "### Analyzing result"
   ]
  },
  {
   "cell_type": "code",
   "execution_count": null,
   "metadata": {
    "collapsed": true
   },
   "outputs": [],
   "source": [
    "model_probs = history.get_model_probabilities(history.max_t)[\"p\"]\n",
    "for i in history.alive_models(history.max_t):\n",
    "    df, w = history.get_distribution(m=i)\n",
    "    df_copy = df.copy()\n",
    "    model = model_names[i]\n",
    "    for param in αβ_params[model]:\n",
    "        a, b = αβ_lims[model][param]\n",
    "        df[param] = df_copy.apply(lambda x: st.beta.mean(x[param], x[param+\"_sd\"])*(b-a) + a, axis=1)\n",
    "        df[param+\"_sd\"] = df_copy.apply(lambda x: st.beta.std(x[param], x[param+\"_sd\"])*(b-a), axis=1)\n",
    "    avg_params = dict(df.multiply(w, axis=0).sum(0))\n",
    "    print(model + \" p=\" + str(model_probs[i]) + \" avg params:\")\n",
    "    print(avg_params)\n",
    "    "
   ]
  },
  {
   "cell_type": "code",
   "execution_count": null,
   "metadata": {
    "collapsed": true
   },
   "outputs": [],
   "source": [
    "scp.spatial.distance.euclidean(y[\"data\"], y[\"data\"])"
   ]
  },
  {
   "cell_type": "code",
   "execution_count": null,
   "metadata": {
    "collapsed": true
   },
   "outputs": [],
   "source": [
    "df.multiply(w, axis=0).sum(0)"
   ]
  },
  {
   "cell_type": "code",
   "execution_count": null,
   "metadata": {
    "collapsed": true
   },
   "outputs": [],
   "source": [
    "history = abc.run(minimum_epsilon=0.1, max_nr_populations=next_pops,  min_acceptance_rate=min_accept_rate)"
   ]
  },
  {
   "cell_type": "markdown",
   "metadata": {
    "collapsed": true
   },
   "source": [
    "### Plotting and comparing acutal to simulated"
   ]
  },
  {
   "cell_type": "code",
   "execution_count": null,
   "metadata": {
    "collapsed": true
   },
   "outputs": [],
   "source": [
    "rgb_cols = [(228/255, 26/255, 28/255), (55/255, 126/255, 184/255), (77/255, 175/255, 74/255), (152/255, 78/255, 163/255), (255/255, 127/255, 0/255)]\n",
    "\n",
    "def plot_h(h, save=False):\n",
    "    plt.figure(figsize=(24,8))\n",
    "    for role in range(2):\n",
    "        ax = plt.subplot(1,2,(role + 1))\n",
    "        ax.set_ylim([-0.01,1.01])\n",
    "        ax.set_yticks([0,0.25,0.5,0.75,1])\n",
    "        n_s = h[role].shape[1]\n",
    "        plt.title(\"Player role \" + str(role + 1))\n",
    "        for s in range(n_s):\n",
    "            plt.plot(h[role][:,s], color=rgb_cols[s], ls=\"-\", label=\"Strat \"+str(s))\n",
    "        ax.legend()\n",
    "    if save:\n",
    "        plt.savefig(save)\n",
    "        plt.close()\n",
    "    else:\n",
    "        plt.show()"
   ]
  },
  {
   "cell_type": "code",
   "execution_count": null,
   "metadata": {
    "collapsed": true
   },
   "outputs": [],
   "source": [
    "plt.switch_backend(\"module://ipykernel.pylab.backend_inline\")\n",
    "i = 0\n",
    "sess = 0\n",
    "# models = [LK_model, LLK_model, PCHM_model, LPCHM_model, JPCHM_model, BR_model, EWA_model]\n",
    "\n",
    "# df, w = history.get_distribution(m=i)\n",
    "\n"
   ]
  },
  {
   "cell_type": "code",
   "execution_count": null,
   "metadata": {
    "scrolled": false
   },
   "outputs": [],
   "source": [
    "i = 0\n",
    "params = dict(df.sample(axis=0, weights=w).iloc[0])\n",
    "ε_sim = 2000000 \n",
    "ε_min = ε_sim\n",
    "gids = [2,4,5,6]\n",
    "\n",
    "flat_hists, shape = flatten_data([np.array([data_dict[gid]]) for gid in gids]) \n",
    "y = {\"data\": flat_hists, \"shape\":shape}\n",
    "\n",
    "test_params = dict()\n",
    "test_params[\"LPCHM\"] = {\"τ\": 1.24, \"τ_sd\":0.1, \"p\":0.25, \"p_sd\":0.1, \"λ\":4.23, \"λ_sd\":0.3}\n",
    "test_params[\"EWA\"] = {'λ': 3.7, 'λ_sd': 0.2, 'p': 1., 'p_sd': 0.1, 'φ': 0.39, 'φ_sd': 0.1, 'ρ': 0.21, 'ρ_sd': 0.1, 'δ': 0.76, 'δ_sd': 0.1}\n",
    "\n",
    "\n",
    "iters = 0\n",
    "iters_lim = 10000\n",
    "while (ε_sim > 5) & (iters < iters_lim):\n",
    "    iters += 1\n",
    "    if iters % 200 == 0:\n",
    "        print(\"Iter: \" + str(iters))\n",
    "    params = dict(df.sample(axis=0, weights=w).iloc[0])\n",
    "#     params = test_params[model_names[i]]\n",
    "    sim = models[i](params)\n",
    "    ε_sim = euclidean_distance(sim, y)\n",
    "    if ε_min > ε_sim:\n",
    "        ε_min = ε_sim\n",
    "        print(\"ε_min: \" + str(ε_min))\n",
    "    \n",
    "\n",
    "\n",
    "# μσ_params = copy.deepcopy(params)\n",
    "# model = model_names[i]\n",
    "# for param in αβ_params[model]:\n",
    "#     a, b = αβ_lims[model][param]\n",
    "#     μσ_params[param] = st.beta.mean(params[param], params[param+\"_sd\"])*(b-a) + a\n",
    "#     μσ_params[param+\"_sd\"] = st.beta.std(params[param], params[param+\"_sd\"])*(b-a)\n",
    "\n",
    "# print(μσ_params)\n",
    "\n",
    "# sim = models[i](params)\n",
    "sim_hists = sim[\"data\"]\n",
    "shape = sim[\"shape\"]\n",
    "sim_plays_flat = unflatten_data(sim_hists, shape)\n",
    "\n",
    "print(distance(sim, y))\n",
    "\n",
    "\n",
    "list_gid = 0\n",
    "for gid in gids:\n",
    "    \n",
    "    print(\"------- \" + str(gid) + \"------\") \n",
    "    p1_s, p2_s = games[gid][0].shape\n",
    "\n",
    "    hist = sim_plays_flat[list_gid]\n",
    "    sim_play = [hist[0:2][sess][0:p1_s*rounds].reshape((rounds,p1_s)), hist[0:2][sess][p1_s*rounds:].reshape((rounds,p2_s))]\n",
    "    actual_play = actual_plays_dict[gid]\n",
    "\n",
    "    print(\"ACTUAL\")\n",
    "    plot_h(actual_play)\n",
    "    print(\"Simulated\")\n",
    "    if gid == 2:\n",
    "        plot_h(sim_play, save=\"close_gid2_png\")\n",
    "    plot_h(sim_play)\n",
    "    list_gid += 1\n",
    "\n"
   ]
  },
  {
   "cell_type": "code",
   "execution_count": null,
   "metadata": {
    "collapsed": true
   },
   "outputs": [],
   "source": [
    "\n",
    "list_gid = 0\n",
    "for gid in gids:\n",
    "    \n",
    "    print(\"------- \" + str(gid) + \"------\") \n",
    "    p1_s, p2_s = games[gid][0].shape\n",
    "\n",
    "    hist = sim_plays_flat[list_gid]\n",
    "    sim_play = [hist[0:2][sess][0:p1_s*rounds].reshape((rounds,p1_s)), hist[0:2][sess][p1_s*rounds:].reshape((rounds,p2_s))]\n",
    "    actual_play = actual_plays_dict[gid]\n",
    "\n",
    "    print(\"ACTUAL\")\n",
    "    plot_h(actual_play)\n",
    "    print(\"Simulated\")\n",
    "    if gid == 2:\n",
    "        plot_h(sim_play, save=\"close_gid2_png\")\n",
    "    plot_h(sim_play)\n",
    "    list_gid += 1"
   ]
  },
  {
   "cell_type": "code",
   "execution_count": null,
   "metadata": {
    "collapsed": true
   },
   "outputs": [],
   "source": [
    "sim[\"data\"]"
   ]
  },
  {
   "cell_type": "markdown",
   "metadata": {
    "collapsed": true
   },
   "source": [
    "### Plotting evolution of params-estimates"
   ]
  },
  {
   "cell_type": "code",
   "execution_count": null,
   "metadata": {
    "collapsed": true
   },
   "outputs": [],
   "source": [
    "# for i in history.alive_models(history.max_t):\n",
    "i = 0\n",
    "model_name = model_names[i]\n",
    "for param in param_names[model_name]:\n",
    "    fig, ax = plt.subplots()\n",
    "    for t in range(history.max_t+1):\n",
    "        df, w = history.get_distribution(m=i, t=t)\n",
    "    #                 df_copy = df.copy()\n",
    "    #                 a, b = αβ_lims[model_name][param]\n",
    "    #                 df[param] = df_copy.apply(lambda x: st.beta.mean(x[param], x[param+\"_sd\"])*(b-a) + a, axis=1)\n",
    "    # #                 df[param+\"_sd\"] = df_copy.apply(lambda x: st.beta.std(x[param], x[param+\"_sd\"])*(b-a), axis=1)\n",
    "        plot_kde_1d(df, w,\n",
    "                    xmin=param_spaces[model_name][param][0], xmax=param_spaces[model_name][param][1],\n",
    "                    x=param, ax=ax,\n",
    "                    label=\"PDF t={}\".format(t))\n",
    "#         ax.axvline(observation, color=\"k\", linestyle=\"dashed\");\n",
    "    ax.legend();\n",
    "    plt.savefig(\"fig/params/actual-\" + param + \"-\" + str(n_particles) + \"-\" + str(max_pops) + \"-\" + model_names[i] +\".png\")\n",
    "    plt.show()"
   ]
  },
  {
   "cell_type": "code",
   "execution_count": null,
   "metadata": {
    "collapsed": true
   },
   "outputs": [],
   "source": [
    "parameters = priors[0].rvs()\n",
    "parameters = αβ_priors[0].rvs()\n",
    "gid = 2\n",
    "print(parameters)\n",
    "\n",
    "\n",
    "p = parameters[\"p\"]\n",
    "τ = parameters[\"τ\"]\n",
    "p_sd = parameters[\"p_sd\"]\n",
    "τ_sd = parameters[\"τ_sd\"]\n",
    "if \"init_τ\" in parameters: \n",
    "    init_params = np.array([parameters[\"init_τ\"], parameters[\"init_λ\"]])\n",
    "else:\n",
    "     init_params=np.array([1.5,1.])\n",
    "pop_LK = Population(games[gid][0], games[gid][1], rounds, p1_size,  p2_size, init_params=init_params, params_vec=[p,τ], σ_vec=[p_sd, τ_sd], lower_vec=[0.,0.], upper_vec=[1,3], random_params=True)\n",
    "\n",
    "print(pop_LK.p1_params)\n",
    "print(pop_LK.p2_params)\n",
    "\n",
    "%timeit pop_LK.mul_runs_LK(10)"
   ]
  },
  {
   "cell_type": "code",
   "execution_count": null,
   "metadata": {
    "collapsed": true
   },
   "outputs": [],
   "source": [
    "pop_LK = Population(games[2][0], games[2][1], rounds, p1_size,  p2_size, params_vec=[2.,2.], σ_vec=[2., 2.], lower_vec=[0.,0.], upper_vec=[1.,20.], random_params=True)"
   ]
  },
  {
   "cell_type": "code",
   "execution_count": null,
   "metadata": {
    "collapsed": true
   },
   "outputs": [],
   "source": [
    "@jit(nopython=True)\n",
    "def draw_beta(μ_in, σ_in, a, b):\n",
    "    μ = (μ_in-a)/(b-a)\n",
    "    σ = σ_in/(b-a)\n",
    "    if σ**2 > (1-μ)*μ:\n",
    "        pass\n",
    "        print(\"σ is to big\", σ, (1-μ)*μ)\n",
    "    σ = min(σ, np.sqrt((1-μ)*μ) - 0.001)\n",
    "    α = ((1-μ)/σ**2 - 1/μ)*μ**2\n",
    "    β = α*(1/μ - 1)\n",
    "#     print(α,β)\n",
    "    return np.random.beta(α,β)*(b-a) + a"
   ]
  },
  {
   "cell_type": "code",
   "execution_count": null,
   "metadata": {
    "collapsed": true
   },
   "outputs": [],
   "source": [
    "for i in history.alive_models(history.max_t):\n",
    "    df, w = history.get_distribution(m=i)\n",
    "    df_copy = df.copy()\n",
    "    model = model_names[i]\n",
    "    for param in αβ_params[model]:\n",
    "        a, b = αβ_lims[model][param]\n",
    "        df[param] = df_copy.apply(lambda x: st.beta.mean(x[param], x[param+\"_sd\"])*(b-a) + a, axis=1)\n",
    "        df[param+\"_sd\"] = df_copy.apply(lambda x: st.beta.std(x[param], x[param+\"_sd\"])*(b-a), axis=1)\n",
    "\n",
    "\n",
    "# df.apply(lambda x: print(x[\"p\"]/(x[\"p\"] + x[\"p_sd\"])), axis=1)"
   ]
  },
  {
   "cell_type": "code",
   "execution_count": null,
   "metadata": {
    "collapsed": true
   },
   "outputs": [],
   "source": [
    "model_names = [\"LK\", \"LLK\", \"PCHM\", \"LPCHM\", \"BR\", \"EWA\"]\n",
    "for i in history.alive_models(history.max_t):\n",
    "    df, w = history.get_distribution(m=i)\n",
    "    df_copy = df.copy()\n",
    "    model = model_names[i]\n",
    "    for param in αβ_params[model]:\n",
    "        a, b = αβ_lims[model][param]\n",
    "        df[param] = df_copy.apply(lambda x: st.beta.mean(x[param], x[param+\"_sd\"])*(b-a) + a, axis=1)\n",
    "        df[param+\"_sd\"] = df_copy.apply(lambda x: st.beta.std(x[param], x[param+\"_sd\"])*(b-a), axis=1)\n",
    "    plot = plot_kde_matrix(df, w, limits=αβ_plot_lims[model_names[i]])\n",
    "    plot.savefig(\"fig/SSE/SSE-\" + str(n_particles) + \"-\" + str(max_pops)+ \"-bw\" + str(bw) + \"-\"  + \"-\" + model_names[i] + \".png\")\n",
    "plt.close(\"all\")"
   ]
  },
  {
   "cell_type": "code",
   "execution_count": null,
   "metadata": {
    "collapsed": true
   },
   "outputs": [],
   "source": [
    "αβ_priors[1].rvs()"
   ]
  },
  {
   "cell_type": "code",
   "execution_count": null,
   "metadata": {
    "collapsed": true
   },
   "outputs": [],
   "source": [
    "αβ_lims[\"JPCHM\"][\"τ\"][1]"
   ]
  },
  {
   "cell_type": "code",
   "execution_count": null,
   "metadata": {
    "collapsed": true
   },
   "outputs": [],
   "source": []
  }
 ],
 "metadata": {
  "@webio": {
   "lastCommId": "0d5afe2eeef04406804027ed9c32fd0c",
   "lastKernelId": "e7957481-c1b0-46a7-a475-9912ea89141c"
  },
  "kernelspec": {
   "display_name": "Python 3",
   "language": "python",
   "name": "python3"
  },
  "language_info": {
   "codemirror_mode": {
    "name": "ipython",
    "version": 3
   },
   "file_extension": ".py",
   "mimetype": "text/x-python",
   "name": "python",
   "nbconvert_exporter": "python",
   "pygments_lexer": "ipython3",
   "version": "3.6.5"
  }
 },
 "nbformat": 4,
 "nbformat_minor": 2
}
